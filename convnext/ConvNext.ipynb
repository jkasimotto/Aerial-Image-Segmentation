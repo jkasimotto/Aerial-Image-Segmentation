{
 "cells": [
  {
   "cell_type": "markdown",
   "id": "73788012",
   "metadata": {},
   "source": [
    "# ConvNeXt implementation\n",
    "\n",
    "> Here we attempt to implement the **ConvNeXt** model from Facebook research. The [repository](https://github.com/facebookresearch/ConvNeXt) is well documented with links to: the [paper](https://arxiv.org/abs/2201.03545) , a [video](https://www.youtube.com/watch?v=QzCjXqFnWPE) explaining the model, a [Colab notebook](https://colab.research.google.com/drive/1CBYTIZ4tBMsVL5cqu9N_-Q3TBprqsfEO?usp=sharing#scrollTo=wG6sydYcOJcv) with an example of object detection and [instructions](https://github.com/facebookresearch/ConvNeXt/tree/main/semantic_segmentation) for the *downstream* task of **semantic segmentation**"
   ]
  },
  {
   "cell_type": "markdown",
   "id": "04b80191",
   "metadata": {},
   "source": [
    "# 0. How to Collaborate\n",
    "Because Jupyter notebooks render as html, they become difficult to use with git/bitbucket. Anytime someone downloads a notebook and pushes it merge differences will occur because of rendering. In a previous project each team member edited their own notebook"
   ]
  },
  {
   "cell_type": "markdown",
   "id": "e5fcd0d0",
   "metadata": {},
   "source": [
    "## First steps\n",
    "\n",
    "Before implementing the model on the Rareplanes dataset, I want to first get it working on any semantic segmentation problem. Therefore I downloaded the [ADE20K dataset](https://groups.csail.mit.edu/vision/datasets/ADE20K/index.html#Download) found in the `/ADE20k` folder"
   ]
  },
  {
   "cell_type": "code",
   "execution_count": null,
   "id": "2576f613",
   "metadata": {},
   "outputs": [],
   "source": [
    "1+3"
   ]
  }
 ],
 "metadata": {
  "kernelspec": {
   "display_name": "Python 3 (ipykernel)",
   "language": "python",
   "name": "python3"
  }
 },
 "nbformat": 4,
 "nbformat_minor": 5
}
