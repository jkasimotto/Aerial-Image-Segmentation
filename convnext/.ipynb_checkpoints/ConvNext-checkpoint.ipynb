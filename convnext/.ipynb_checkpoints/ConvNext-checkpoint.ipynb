{
 "cells": [
  {
   "cell_type": "markdown",
   "id": "73788012",
   "metadata": {},
   "source": [
    "# ConvNeXt implementation\n",
    "\n",
    "Here we attempt to implement the **ConvNeXt** model from Facebook research. The [repository](https://github.com/facebookresearch/ConvNeXt) is well documented with links to: \n",
    "- the [paper](https://arxiv.org/abs/2201.03545) \n",
    "- a [video](https://www.youtube.com/watch?v=QzCjXqFnWPE) explaining the model\n",
    "- a [Colab notebook](https://colab.research.google.com/drive/1CBYTIZ4tBMsVL5cqu9N_-Q3TBprqsfEO?usp=sharing#scrollTo=wG6sydYcOJcv) with an example of object detection \n",
    "- [instructions](https://github.com/facebookresearch/ConvNeXt/tree/main/semantic_segmentation) for the *downstream* task of **semantic segmentation**"
   ]
  },
  {
   "cell_type": "markdown",
   "id": "04b80191",
   "metadata": {},
   "source": [
    "# 0. How to Collaborate\n",
    "Because Jupyter notebooks produce output in the cells which is rendered in HTML, these appear as diffs when pushing/pulling/merging with Git. To overcome this I installed [nbstripout](https://github.com/kynan/nbstripout) which removes all the output of notebooks so essentially we see the changes in the code only. **NOTE** I don't know if this automatically works for you too! I suggest watching this [4 minute nbstripout screencast](https://www.youtube.com/watch?v=BEMP4xacrVc) before pushing any changes to the repo."
   ]
  },
  {
   "cell_type": "markdown",
   "id": "e5fcd0d0",
   "metadata": {},
   "source": [
    "# 1. Babysteps. Implementing on ADE20K\n",
    "\n",
    "\n",
    "#### Why?\n",
    "\n",
    "The first step in my opinion is to get **any** model working on **any** semantic segmentation problem. Therefore before implementing the model on the Rareplanes dataset, I want to first implement it on thge [ADE20K dataset](https://groups.csail.mit.edu/vision/datasets/ADE20K/index.html#Download) which has already been done by facebook research. Reproducing this will help us understand how the model and the program works. \n",
    "\n",
    "#### Getting started.\n",
    "The ADE20K repository is found in the ```/ADE20K``` folder. The [starter notebook](./ADE20K/notebooks/ade20k_starter.ipynb) should be the first point of call."
   ]
  },
  {
   "cell_type": "markdown",
   "id": "82c892ee",
   "metadata": {},
   "source": [
    "## 1.1 Explore the dataset\n",
    "\n",
    "The [ADE20K docs](https://github.com/CSAILVision/ADE20K#explore-the-dataset) detail the dataset well. The ADE20k dataset consists of 25,574 images with 707,868 unique objects and 193,239 annotated object parts and polygon annotations."
   ]
  },
  {
   "cell_type": "markdown",
   "id": "b0822ae1",
   "metadata": {},
   "source": [
    "### 1.1.1 How are pixel masks encoded?\n",
    "I (Julian on 2022-8-20) do not understand how objects and instances are annotated in the ```image_name_seg.png``` files in this [section](https://github.com/CSAILVision/ADE20K#structure) of the docs."
   ]
  }
 ],
 "metadata": {
  "kernelspec": {
   "display_name": "Python 3 (ipykernel)",
   "language": "python",
   "name": "python3"
  }
 },
 "nbformat": 4,
 "nbformat_minor": 5
}
